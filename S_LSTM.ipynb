{
  "nbformat": 4,
  "nbformat_minor": 0,
  "metadata": {
    "colab": {
      "name": "S-LSTM.ipynb",
      "provenance": [],
      "collapsed_sections": [],
      "mount_file_id": "1XCZgG1WAsqysR3bGoB1pshvvocir9P6Z",
      "authorship_tag": "ABX9TyNmnOv179OSfnI2sU/tty4W",
      "include_colab_link": true
    },
    "kernelspec": {
      "name": "python3",
      "display_name": "Python 3"
    }
  },
  "cells": [
    {
      "cell_type": "markdown",
      "metadata": {
        "id": "view-in-github",
        "colab_type": "text"
      },
      "source": [
        "<a href=\"https://colab.research.google.com/github/GabboM/NNDS/blob/master/S_LSTM.ipynb\" target=\"_parent\"><img src=\"https://colab.research.google.com/assets/colab-badge.svg\" alt=\"Open In Colab\"/></a>"
      ]
    },
    {
      "cell_type": "markdown",
      "metadata": {
        "id": "Um7oKpoM5PwK",
        "colab_type": "text"
      },
      "source": [
        "# Neural Networks for Data Science Applications\n",
        "\n",
        "Code and work is related to this [Paper](https://arxiv.org/pdf/1805.02474.pdf)\n",
        "and some code is adapted from [here](https://keras.io/examples/nlp/pretrained_word_embeddings/) and [here](https://medium.com/softmax/tensorflow-keras-lstm-source-code-line-by-line-explained-125a6dae0622)"
      ]
    },
    {
      "cell_type": "code",
      "metadata": {
        "id": "soQVjZmolB8F",
        "colab_type": "code",
        "colab": {}
      },
      "source": [
        "import tensorflow_datasets as tfds\n",
        "import tensorflow as tf\n",
        "from tensorflow import keras\n",
        "from tensorflow.keras.layers.experimental.preprocessing import TextVectorization\n",
        "from tensorflow.python.keras import backend as K\n",
        "from tensorflow.keras.activations import sigmoid, tanh\n",
        "from tensorflow.keras.layers import Embedding\n",
        "\n",
        "import numpy as np\n",
        "import os"
      ],
      "execution_count": 1,
      "outputs": []
    },
    {
      "cell_type": "markdown",
      "metadata": {
        "id": "rJeBavA453kc",
        "colab_type": "text"
      },
      "source": [
        "# Data"
      ]
    },
    {
      "cell_type": "markdown",
      "metadata": {
        "id": "Mff73X42QyUh",
        "colab_type": "text"
      },
      "source": [
        "### Loading IMDB_reviews and splitting in Train/Test"
      ]
    },
    {
      "cell_type": "code",
      "metadata": {
        "id": "fPFM_ExG5b2q",
        "colab_type": "code",
        "colab": {}
      },
      "source": [
        "(ds_train, ds_test), ds_info = tfds.load('imdb_reviews/plain_text',\n",
        "                                          split=['train', 'test'],\n",
        "                                          shuffle_files=True,\n",
        "                                          as_supervised=True,\n",
        "                                          with_info=True)"
      ],
      "execution_count": 2,
      "outputs": []
    },
    {
      "cell_type": "markdown",
      "metadata": {
        "id": "qgBAsKeLRKX8",
        "colab_type": "text"
      },
      "source": [
        "creating a list `ds` of all the reviews in plain text"
      ]
    },
    {
      "cell_type": "code",
      "metadata": {
        "id": "MlxnM6v28NVN",
        "colab_type": "code",
        "colab": {}
      },
      "source": [
        "it = list(ds_train)\n",
        "ds = []\n",
        "for _ in range(10000): #manual tokens\n",
        "  ds.append('startofsentence endofsentence')\n",
        "for i in it:\n",
        "  ds.append(i[0].numpy().decode())"
      ],
      "execution_count": 3,
      "outputs": []
    },
    {
      "cell_type": "markdown",
      "metadata": {
        "id": "MHeNNRoXgkAp",
        "colab_type": "text"
      },
      "source": [
        "Let's download the GloVe word embeddings. We will use dim=100 instead of 300 to speed up the training"
      ]
    },
    {
      "cell_type": "code",
      "metadata": {
        "id": "gKlCN0BJYUW4",
        "colab_type": "code",
        "colab": {
          "base_uri": "https://localhost:8080/",
          "height": 363
        },
        "outputId": "e4237ec5-5409-4f04-f4df-8e70926fe33d"
      },
      "source": [
        "!wget http://nlp.stanford.edu/data/glove.6B.zip\n",
        "!unzip -q glove.6B.zip"
      ],
      "execution_count": 9,
      "outputs": [
        {
          "output_type": "stream",
          "text": [
            "--2020-09-08 14:30:26--  http://nlp.stanford.edu/data/glove.6B.zip\n",
            "Resolving nlp.stanford.edu (nlp.stanford.edu)... 171.64.67.140\n",
            "Connecting to nlp.stanford.edu (nlp.stanford.edu)|171.64.67.140|:80... connected.\n",
            "HTTP request sent, awaiting response... 302 Found\n",
            "Location: https://nlp.stanford.edu/data/glove.6B.zip [following]\n",
            "--2020-09-08 14:30:26--  https://nlp.stanford.edu/data/glove.6B.zip\n",
            "Connecting to nlp.stanford.edu (nlp.stanford.edu)|171.64.67.140|:443... connected.\n",
            "HTTP request sent, awaiting response... 301 Moved Permanently\n",
            "Location: http://downloads.cs.stanford.edu/nlp/data/glove.6B.zip [following]\n",
            "--2020-09-08 14:30:27--  http://downloads.cs.stanford.edu/nlp/data/glove.6B.zip\n",
            "Resolving downloads.cs.stanford.edu (downloads.cs.stanford.edu)... 171.64.64.22\n",
            "Connecting to downloads.cs.stanford.edu (downloads.cs.stanford.edu)|171.64.64.22|:80... connected.\n",
            "HTTP request sent, awaiting response... 200 OK\n",
            "Length: 862182613 (822M) [application/zip]\n",
            "Saving to: ‘glove.6B.zip’\n",
            "\n",
            "glove.6B.zip        100%[===================>] 822.24M  2.09MB/s    in 7m 10s  \n",
            "\n",
            "2020-09-08 14:37:38 (1.91 MB/s) - ‘glove.6B.zip’ saved [862182613/862182613]\n",
            "\n"
          ],
          "name": "stdout"
        }
      ]
    },
    {
      "cell_type": "markdown",
      "metadata": {
        "id": "fBwB_-ixkzhj",
        "colab_type": "text"
      },
      "source": [
        "creating a mapping of the words to their vector representation by GloVe"
      ]
    },
    {
      "cell_type": "code",
      "metadata": {
        "id": "3NVdXHklkwiq",
        "colab_type": "code",
        "colab": {
          "base_uri": "https://localhost:8080/",
          "height": 34
        },
        "outputId": "e1852ced-a769-47a0-ae97-c9eaf0eca73c"
      },
      "source": [
        "path_to_glove_file = os.path.join(\n",
        "    \"glove.6B.100d.txt\"\n",
        ")\n",
        "\n",
        "embeddings_index = {}\n",
        "with open(path_to_glove_file) as f:\n",
        "    for line in f:\n",
        "        word, coefs = line.split(maxsplit=1)\n",
        "        coefs = np.fromstring(coefs, \"f\", sep=\" \")\n",
        "        embeddings_index[word] = coefs\n",
        "\n",
        "print(\"Found %s word vectors.\" % len(embeddings_index))"
      ],
      "execution_count": 4,
      "outputs": [
        {
          "output_type": "stream",
          "text": [
            "Found 400000 word vectors.\n"
          ],
          "name": "stdout"
        }
      ]
    },
    {
      "cell_type": "markdown",
      "metadata": {
        "id": "NFtRkRTOSBeb",
        "colab_type": "text"
      },
      "source": [
        "Now we should have a tokenizer for the raw text. We train a word tokenizer on the training corpus and create a dictionary with the corresponding vocabulary"
      ]
    },
    {
      "cell_type": "code",
      "metadata": {
        "id": "T0E1mmFxzq83",
        "colab_type": "code",
        "colab": {}
      },
      "source": [
        "text_dataset = tf.data.Dataset.from_tensor_slices(ds)\n",
        "max_features = 20000  # Maximum vocab size.\n",
        "max_len = 200  # Sequence length to pad the outputs to.\n",
        "\n",
        "# Create the layer.\n",
        "vectorize = TextVectorization(\n",
        " max_tokens=max_features,\n",
        " output_mode='int',\n",
        " output_sequence_length=max_len)\n",
        "\n",
        "# Now that the vocab layer has been created, call `adapt` on the text-only\n",
        "# dataset to create the vocabulary. You don't have to batch, but for large\n",
        "# datasets this means we're not keeping spare copies of the dataset.\n",
        "vectorize.adapt(text_dataset.batch(64))"
      ],
      "execution_count": 5,
      "outputs": []
    },
    {
      "cell_type": "code",
      "metadata": {
        "id": "rKx0HkfC9m-o",
        "colab_type": "code",
        "colab": {}
      },
      "source": [
        "voc = vectorize.get_vocabulary()\n",
        "word_index = dict(zip(voc, range(len(voc))))"
      ],
      "execution_count": 6,
      "outputs": []
    },
    {
      "cell_type": "code",
      "metadata": {
        "id": "R6TJt1Lw7Hw9",
        "colab_type": "code",
        "colab": {
          "base_uri": "https://localhost:8080/",
          "height": 51
        },
        "outputId": "a10aa0b5-9527-4101-919c-ea1577cd7200"
      },
      "source": [
        "print('startofsentence' in voc)\n",
        "print('endofsentence' in voc)"
      ],
      "execution_count": 7,
      "outputs": [
        {
          "output_type": "stream",
          "text": [
            "True\n",
            "True\n"
          ],
          "name": "stdout"
        }
      ]
    },
    {
      "cell_type": "code",
      "metadata": {
        "id": "V5nBxHNL1TS0",
        "colab_type": "code",
        "colab": {
          "base_uri": "https://localhost:8080/",
          "height": 35
        },
        "outputId": "016e4bd6-31a3-4dc5-af62-12229b4a82ad"
      },
      "source": [
        "voc[2]"
      ],
      "execution_count": 8,
      "outputs": [
        {
          "output_type": "execute_result",
          "data": {
            "application/vnd.google.colaboratory.intrinsic+json": {
              "type": "string"
            },
            "text/plain": [
              "'the'"
            ]
          },
          "metadata": {
            "tags": []
          },
          "execution_count": 8
        }
      ]
    },
    {
      "cell_type": "markdown",
      "metadata": {
        "id": "RS5m-YzFSoV_",
        "colab_type": "text"
      },
      "source": [
        "creating an embedding matrix"
      ]
    },
    {
      "cell_type": "code",
      "metadata": {
        "id": "_CouWkFjo9Hq",
        "colab_type": "code",
        "colab": {
          "base_uri": "https://localhost:8080/",
          "height": 34
        },
        "outputId": "e57a0e20-c99c-4c14-f6a0-2062b54761a7"
      },
      "source": [
        "num_tokens = len(voc) + 2\n",
        "embedding_dim = 100\n",
        "hits = 0\n",
        "misses = 0\n",
        "\n",
        "# Prepare embedding matrix\n",
        "embedding_matrix = np.zeros((num_tokens, embedding_dim))\n",
        "for word, i in word_index.items():\n",
        "    embedding_vector = embeddings_index.get(word)\n",
        "    if embedding_vector is not None:\n",
        "        # Words not found in embedding index will be all-zeros.\n",
        "        # This includes the representation for \"padding\" and \"OOV\"\n",
        "        embedding_matrix[i] = embedding_vector\n",
        "        hits += 1\n",
        "    else:\n",
        "        misses += 1\n",
        "print(\"Converted %d words (%d misses)\" % (hits, misses))"
      ],
      "execution_count": 9,
      "outputs": [
        {
          "output_type": "stream",
          "text": [
            "Converted 18721 words (1279 misses)\n"
          ],
          "name": "stdout"
        }
      ]
    },
    {
      "cell_type": "code",
      "metadata": {
        "id": "zVPwSnBA9yaC",
        "colab_type": "code",
        "colab": {
          "base_uri": "https://localhost:8080/",
          "height": 34
        },
        "outputId": "57d9f937-c728-41f7-b3bb-c8cfeef6663d"
      },
      "source": [
        "len(embeddings_index.keys())"
      ],
      "execution_count": 10,
      "outputs": [
        {
          "output_type": "execute_result",
          "data": {
            "text/plain": [
              "400000"
            ]
          },
          "metadata": {
            "tags": []
          },
          "execution_count": 10
        }
      ]
    },
    {
      "cell_type": "code",
      "metadata": {
        "id": "LMAaLEbXTag_",
        "colab_type": "code",
        "colab": {
          "base_uri": "https://localhost:8080/",
          "height": 34
        },
        "outputId": "39cfc5bb-5388-4756-b6fb-958f88cdb8f9"
      },
      "source": [
        "embedding_matrix.shape"
      ],
      "execution_count": 11,
      "outputs": [
        {
          "output_type": "execute_result",
          "data": {
            "text/plain": [
              "(20002, 100)"
            ]
          },
          "metadata": {
            "tags": []
          },
          "execution_count": 11
        }
      ]
    },
    {
      "cell_type": "code",
      "metadata": {
        "id": "lRkwqaKO1MqO",
        "colab_type": "code",
        "colab": {
          "base_uri": "https://localhost:8080/",
          "height": 121
        },
        "outputId": "c888fd02-98d8-4108-9364-f610f35b9c57"
      },
      "source": [
        "embedding_matrix[0]"
      ],
      "execution_count": 12,
      "outputs": [
        {
          "output_type": "execute_result",
          "data": {
            "text/plain": [
              "array([0., 0., 0., 0., 0., 0., 0., 0., 0., 0., 0., 0., 0., 0., 0., 0., 0.,\n",
              "       0., 0., 0., 0., 0., 0., 0., 0., 0., 0., 0., 0., 0., 0., 0., 0., 0.,\n",
              "       0., 0., 0., 0., 0., 0., 0., 0., 0., 0., 0., 0., 0., 0., 0., 0., 0.,\n",
              "       0., 0., 0., 0., 0., 0., 0., 0., 0., 0., 0., 0., 0., 0., 0., 0., 0.,\n",
              "       0., 0., 0., 0., 0., 0., 0., 0., 0., 0., 0., 0., 0., 0., 0., 0., 0.,\n",
              "       0., 0., 0., 0., 0., 0., 0., 0., 0., 0., 0., 0., 0., 0., 0.])"
            ]
          },
          "metadata": {
            "tags": []
          },
          "execution_count": 12
        }
      ]
    },
    {
      "cell_type": "markdown",
      "metadata": {
        "id": "jCQHcJM_cR3A",
        "colab_type": "text"
      },
      "source": [
        "# Model"
      ]
    },
    {
      "cell_type": "code",
      "metadata": {
        "id": "yAmh_RCv2qzO",
        "colab_type": "code",
        "colab": {}
      },
      "source": [
        "embedding_layer = Embedding(\n",
        "    num_tokens,\n",
        "    embedding_dim,\n",
        "    embeddings_initializer=keras.initializers.Constant(embedding_matrix),\n",
        "    trainable=True,\n",
        ")"
      ],
      "execution_count": 13,
      "outputs": []
    },
    {
      "cell_type": "code",
      "metadata": {
        "id": "V6y3_oUv7zkk",
        "colab_type": "code",
        "colab": {}
      },
      "source": [
        "def preprocess_sentence(x):\n",
        "  return('startofsentence ' + x + ' endofsentence')"
      ],
      "execution_count": 14,
      "outputs": []
    },
    {
      "cell_type": "code",
      "metadata": {
        "id": "rt3J_iOCBkOS",
        "colab_type": "code",
        "colab": {
          "base_uri": "https://localhost:8080/",
          "height": 433
        },
        "outputId": "1ab660d1-0419-45e9-e6b7-3814f6d5a430"
      },
      "source": [
        "sent = preprocess_sentence(\"the cat sat on the mat\")\n",
        "output = vectorize([sent])\n",
        "output"
      ],
      "execution_count": 15,
      "outputs": [
        {
          "output_type": "execute_result",
          "data": {
            "text/plain": [
              "<tf.Tensor: shape=(1, 200), dtype=int64, numpy=\n",
              "array([[   71,     2,  1149,  1753,    21,     2, 12530,    72,     0,\n",
              "            0,     0,     0,     0,     0,     0,     0,     0,     0,\n",
              "            0,     0,     0,     0,     0,     0,     0,     0,     0,\n",
              "            0,     0,     0,     0,     0,     0,     0,     0,     0,\n",
              "            0,     0,     0,     0,     0,     0,     0,     0,     0,\n",
              "            0,     0,     0,     0,     0,     0,     0,     0,     0,\n",
              "            0,     0,     0,     0,     0,     0,     0,     0,     0,\n",
              "            0,     0,     0,     0,     0,     0,     0,     0,     0,\n",
              "            0,     0,     0,     0,     0,     0,     0,     0,     0,\n",
              "            0,     0,     0,     0,     0,     0,     0,     0,     0,\n",
              "            0,     0,     0,     0,     0,     0,     0,     0,     0,\n",
              "            0,     0,     0,     0,     0,     0,     0,     0,     0,\n",
              "            0,     0,     0,     0,     0,     0,     0,     0,     0,\n",
              "            0,     0,     0,     0,     0,     0,     0,     0,     0,\n",
              "            0,     0,     0,     0,     0,     0,     0,     0,     0,\n",
              "            0,     0,     0,     0,     0,     0,     0,     0,     0,\n",
              "            0,     0,     0,     0,     0,     0,     0,     0,     0,\n",
              "            0,     0,     0,     0,     0,     0,     0,     0,     0,\n",
              "            0,     0,     0,     0,     0,     0,     0,     0,     0,\n",
              "            0,     0,     0,     0,     0,     0,     0,     0,     0,\n",
              "            0,     0,     0,     0,     0,     0,     0,     0,     0,\n",
              "            0,     0,     0,     0,     0,     0,     0,     0,     0,\n",
              "            0,     0]])>"
            ]
          },
          "metadata": {
            "tags": []
          },
          "execution_count": 15
        }
      ]
    },
    {
      "cell_type": "code",
      "metadata": {
        "id": "2JCOCKfdBp_p",
        "colab_type": "code",
        "colab": {}
      },
      "source": [
        "output = embedding_layer(output)"
      ],
      "execution_count": 16,
      "outputs": []
    },
    {
      "cell_type": "code",
      "metadata": {
        "id": "9CBmhZpe7l0q",
        "colab_type": "code",
        "colab": {}
      },
      "source": [
        "class SLSTMcell(keras.layers.Layer):\n",
        "  def __init__(self, units=100, window=3, use_bias=True, recurrent_fn=sigmoid, activation_fn=tanh, seq_len=max_len, \n",
        "               kernel_initializer='uniform', kernel_regularizer=None, kernel_constraint=None,\n",
        "               bias_initializer='zeros', bias_regularizer=None, bias_constraint=None):\n",
        "    super(SLSTMcell, self).__init__()\n",
        "    self.units = units\n",
        "    self.use_bias = use_bias\n",
        "    self.recurrent_function = recurrent_fn\n",
        "    self.activation_fn = activation_fn\n",
        "    self.seq_len = seq_len\n",
        "    self.window = window\n",
        "    self.kernel_initializer = kernel_initializer\n",
        "    self.kernel_regularizer = kernel_regularizer\n",
        "    self.kernel_constraint = kernel_constraint\n",
        "    self.bias_initializer = bias_initializer\n",
        "    self.bias_regularizer = bias_regularizer\n",
        "    self.bias_constraint = bias_constraint\n",
        "    \n",
        "  def build(self, input_shape):\n",
        "    input_dim = input_shape[-1]\n",
        "    self.W = self.add_weight(shape=(input_dim * self.window, self.units * 10),\n",
        "                                  name='W',\n",
        "                                  initializer=self.kernel_initializer,\n",
        "                                  regularizer=self.kernel_regularizer,\n",
        "                                  constraint=self.kernel_constraint)\n",
        "    \n",
        "    self.W2 = self.add_weight(shape=(input_dim, self.units * 3),\n",
        "                                  name='W2',\n",
        "                                  initializer=self.kernel_initializer,\n",
        "                                  regularizer=self.kernel_regularizer,\n",
        "                                  constraint=self.kernel_constraint)\n",
        "    \n",
        "    self.U = self.add_weight(shape=(input_dim, self.units * 10),\n",
        "                                  name='U',\n",
        "                                  initializer=self.kernel_initializer,\n",
        "                                  regularizer=self.kernel_regularizer,\n",
        "                                  constraint=self.kernel_constraint)\n",
        "    \n",
        "    self.V = self.add_weight(shape=(input_dim, self.units * 7),\n",
        "                                  name='V',\n",
        "                                  initializer=self.kernel_initializer,\n",
        "                                  regularizer=self.kernel_regularizer,\n",
        "                                  constraint=self.kernel_constraint)\n",
        "\n",
        "    if self.use_bias:\n",
        "        # bias_initializer = self.bias_initializer\n",
        "        self.bias = self.add_weight(shape=(self.units * 10,),\n",
        "                                    name='bias',\n",
        "                                    initializer=self.bias_initializer,\n",
        "                                    regularizer=self.bias_regularizer,\n",
        "                                    constraint=self.bias_constraint)\n",
        "    else:\n",
        "        self.bias = None\n",
        "\n",
        "    self.W_i = self.W[:, :self.units]\n",
        "    self.W_l = self.W[:, self.units * 1: self.units * 2]\n",
        "    self.W_r = self.W[:, self.units * 2: self.units * 3]\n",
        "    self.W_f = self.W[:, self.units * 3: self.units * 4]\n",
        "    self.W_s = self.W[:, self.units * 4: self.units * 5]\n",
        "    self.W_o = self.W[:, self.units * 5: self.units * 6]\n",
        "    self.W_u = self.W[:, self.units * 6: self.units * 7]\n",
        "    self.W_g = self.W2[:, :self.units]\n",
        "    self.W_f2 = self.W2[:, self.units * 1: self.units * 2]\n",
        "    self.W_o2 = self.W2[:, self.units * 2:]\n",
        "\n",
        "    self.U_i = self.U[:, :self.units]\n",
        "    self.U_l = self.U[:, self.units * 1: self.units * 2]\n",
        "    self.U_r = self.U[:, self.units * 2: self.units * 3]\n",
        "    self.U_f = self.U[:, self.units * 3: self.units * 4]\n",
        "    self.U_s = self.U[:, self.units * 4: self.units * 5]\n",
        "    self.U_o = self.U[:, self.units * 5: self.units * 6]\n",
        "    self.U_u = self.U[:, self.units * 6: self.units * 7]\n",
        "    self.U_g = self.U[:, self.units * 7: self.units * 8]\n",
        "    self.U_f2 = self.U[:, self.units * 8: self.units * 9]\n",
        "    self.U_o2 = self.U[:, self.units * 9:]\n",
        "    \n",
        "    self.V_i = self.V[:, :self.units]\n",
        "    self.V_l = self.V[:, self.units * 1: self.units * 2]\n",
        "    self.V_r = self.V[:, self.units * 2: self.units * 3]\n",
        "    self.V_f = self.V[:, self.units * 3: self.units * 4]\n",
        "    self.V_s = self.V[:, self.units * 4: self.units * 5]\n",
        "    self.V_o = self.V[:, self.units * 5: self.units * 6]\n",
        "    self.V_u = self.V[:, self.units * 6:]\n",
        "\n",
        "    if self.use_bias:\n",
        "        self.bias_i = self.bias[:self.units]\n",
        "        self.bias_l = self.bias[self.units * 1: self.units * 2]\n",
        "        self.bias_r = self.bias[self.units * 2: self.units * 3]\n",
        "        self.bias_f = self.bias[self.units * 3: self.units * 4]\n",
        "        self.bias_s = self.bias[self.units * 4: self.units * 5]\n",
        "        self.bias_o = self.bias[self.units * 5: self.units * 6]\n",
        "        self.bias_u = self.bias[self.units * 6: self.units * 7]\n",
        "        self.bias_g = self.bias[self.units * 7: self.units * 8]\n",
        "        self.bias_f2 = self.bias[self.units * 8: self.units * 9]\n",
        "        self.bias_o2 = self.bias[self.units * 9:]\n",
        "    else:\n",
        "        self.bias_i = None\n",
        "        self.bias_l = None\n",
        "        self.bias_r = None\n",
        "        self.bias_f = None\n",
        "        self.bias_s = None\n",
        "        self.bias_o = None\n",
        "        self.bias_u = None\n",
        "        self.bias_g = None\n",
        "        self.bias_f2 = None\n",
        "        self.bias_o2 = None\n",
        "    self.built = True\n",
        "\n",
        "  def call(self, inputs, states, training=None):\n",
        "\n",
        "    # H_tm1 = states[:, :self.seq_len + 2]  # previous memory state\n",
        "    # c_tm1 = states[:, self.seq_len + 2:]  # previous carry state\n",
        "\n",
        "    H_tm1 = states[0]\n",
        "    c_tm1 = states[1]\n",
        "\n",
        "    H = tf.identity(H_tm1[0:1, :])\n",
        "    c = tf.identity(c_tm1[0:1, :])\n",
        "\n",
        "    for i in range(1, self.seq_len - 1):\n",
        "      x_i = inputs[:, i-1]\n",
        "      x_l = inputs[:, i-1]\n",
        "      x_r = inputs[:, i-1]\n",
        "      x_f = inputs[:, i-1]\n",
        "      x_s = inputs[:, i-1]\n",
        "      x_o = inputs[:, i-1]\n",
        "      x_u = inputs[:, i-1]\n",
        "      Ux_i = K.dot(x_i, self.U_i)\n",
        "      Ux_l = K.dot(x_l, self.U_l)\n",
        "      Ux_r = K.dot(x_r, self.U_r)\n",
        "      Ux_f = K.dot(x_f, self.U_f)\n",
        "      Ux_s = K.dot(x_s, self.U_s)\n",
        "      Ux_o = K.dot(x_o, self.U_o)\n",
        "      Ux_u = K.dot(x_u, self.U_u)\n",
        "      if self.use_bias:\n",
        "        Ux_i = K.bias_add(Ux_i, self.bias_i)\n",
        "        Ux_l = K.bias_add(Ux_l, self.bias_l)\n",
        "        Ux_r = K.bias_add(Ux_r, self.bias_r)\n",
        "        Ux_f = K.bias_add(Ux_f, self.bias_f)\n",
        "        Ux_s = K.bias_add(Ux_s, self.bias_s)\n",
        "        Ux_o = K.bias_add(Ux_o, self.bias_o)\n",
        "        Ux_u = K.bias_add(Ux_u, self.bias_u)\n",
        "\n",
        "      csi_tm1_i = tf.concat((H_tm1[i-1:i, :], H_tm1[i:i+1, :], H_tm1[i+1:i+2, :]), axis=1)\n",
        "      csi_tm1_l = tf.concat((H_tm1[i-1:i, :], H_tm1[i:i+1, :], H_tm1[i+1:i+2, :]), axis=1)\n",
        "      csi_tm1_r = tf.concat((H_tm1[i-1:i, :], H_tm1[i:i+1, :], H_tm1[i+1:i+2, :]), axis=1)\n",
        "      csi_tm1_f = tf.concat((H_tm1[i-1:i, :], H_tm1[i:i+1, :], H_tm1[i+1:i+2, :]), axis=1)\n",
        "      csi_tm1_s = tf.concat((H_tm1[i-1:i, :], H_tm1[i:i+1, :], H_tm1[i+1:i+2, :]), axis=1)\n",
        "      csi_tm1_o = tf.concat((H_tm1[i-1:i, :], H_tm1[i:i+1, :], H_tm1[i+1:i+2, :]), axis=1)\n",
        "      csi_tm1_u = tf.concat((H_tm1[i-1:i, :], H_tm1[i:i+1, :], H_tm1[i+1:i+2, :]), axis=1)\n",
        "\n",
        "      Wcsi_i = K.dot(csi_tm1_i, self.W_i)\n",
        "      Wcsi_l = K.dot(csi_tm1_l, self.W_l)\n",
        "      Wcsi_r = K.dot(csi_tm1_r, self.W_r)\n",
        "      Wcsi_f = K.dot(csi_tm1_f, self.W_f)\n",
        "      Wcsi_s = K.dot(csi_tm1_s, self.W_s)\n",
        "      Wcsi_o = K.dot(csi_tm1_o, self.W_o)\n",
        "      Wcsi_u = K.dot(csi_tm1_u, self.W_u)\n",
        "      \n",
        "      g_tm1_i = H_tm1[self.seq_len: self.seq_len + 1, :]\n",
        "      g_tm1_l = H_tm1[self.seq_len: self.seq_len + 1, :]\n",
        "      g_tm1_r = H_tm1[self.seq_len: self.seq_len + 1, :]\n",
        "      g_tm1_f = H_tm1[self.seq_len: self.seq_len + 1, :]\n",
        "      g_tm1_s = H_tm1[self.seq_len: self.seq_len + 1, :]\n",
        "      g_tm1_o = H_tm1[self.seq_len: self.seq_len + 1, :]\n",
        "      g_tm1_u = H_tm1[self.seq_len: self.seq_len + 1, :]\n",
        "      Vg_i = K.dot(g_tm1_i, self.V_i)\n",
        "      Vg_l = K.dot(g_tm1_l, self.V_l)\n",
        "      Vg_r = K.dot(g_tm1_r, self.V_r)\n",
        "      Vg_f = K.dot(g_tm1_f, self.V_f)\n",
        "      Vg_s = K.dot(g_tm1_s, self.V_s)\n",
        "      Vg_o = K.dot(g_tm1_o, self.V_o)\n",
        "      Vg_u = K.dot(g_tm1_u, self.V_u)\n",
        "\n",
        "      i_hat = self.recurrent_function(Wcsi_i + Ux_i + Vg_i)\n",
        "      l_hat = self.recurrent_function(Wcsi_l + Ux_l + Vg_l)\n",
        "      r_hat = self.recurrent_function(Wcsi_r + Ux_r + Vg_r)\n",
        "      f_hat = self.recurrent_function(Wcsi_f + Ux_f + Vg_f)\n",
        "      s_hat = self.recurrent_function(Wcsi_s + Ux_s + Vg_s)\n",
        "      o_ = self.recurrent_function(Wcsi_o + Ux_o + Vg_o)\n",
        "      u_ = self.activation_fn(Wcsi_u + Ux_u + Vg_u)\n",
        "      \n",
        "      i_, l_, r_, f_, s_ = [tf.keras.activations.softmax(t, axis=0) for t in [i_hat, l_hat, r_hat, f_hat, s_hat]]\n",
        "\n",
        "      c_ = l_ * c_tm1[i-1:i, :] + f_ * c_tm1[i:i+1, :] + r_ * c_tm1[i+1:i+2, :] + \\\n",
        "                                s_ * c_tm1[self.seq_len:, :] + i_ * u_\n",
        "\n",
        "      h_ = o_ * self.activation_fn(c_)\n",
        "\n",
        "      H = tf.concat((H, h_), axis=0)\n",
        "      c = tf.concat((c, c_), axis=0)                                           \n",
        "    \n",
        "    H = tf.concat((H, H_tm1[self.seq_len - 1 : self.seq_len, :]), axis=0)\n",
        "    c = tf.concat((c, c_tm1[self.seq_len - 1 : self.seq_len, :]), axis=0) \n",
        "\n",
        "    # now the calculation to update g\n",
        "\n",
        "    h_bar = tf.reduce_mean(H_tm1[:-1,:], axis=0, keepdims=True)\n",
        "    g_tm1 = H_tm1[self.seq_len : self.seq_len + 1, :]\n",
        "    c_tm1_g = c_tm1[self.seq_len : self.seq_len + 1, :]\n",
        "          \n",
        "    Wg_g = K.dot(g_tm1, self.W_g)\n",
        "    Wg_f2 = K.dot(g_tm1, self.W_f2)\n",
        "    Wg_o2 = K.dot(g_tm1, self.W_o2)\n",
        "    if self.use_bias:\n",
        "      Wg_g = K.bias_add(Wg_g, self.bias_g)\n",
        "      Wg_f2 = K.bias_add(Wg_f2, self.bias_f2)\n",
        "      Wg_o2 = K.bias_add(Wg_o2, self.bias_o2)\n",
        "    Uh_g = K.dot(h_bar, self.U_g)\n",
        "    # this U is different for each i -> so it's in the for loop\n",
        "    Uh_o2 = K.dot(h_bar, self.U_o2)\n",
        "\n",
        "    f_g = self.recurrent_function(Wg_g + Uh_g)\n",
        "    \n",
        "    Uh_f2 = K.dot(H[0:1, :], self.U_f2)\n",
        "    F_ = tf.keras.activations.softmax(self.recurrent_function(Wg_f2 + Uh_f2), axis=0)\n",
        "    for i in range(1, self.seq_len + 1):\n",
        "      Uh_f2 = K.dot(H_tm1[i:i+1, :], self.U_f2)\n",
        "      f_i = tf.keras.activations.softmax(self.recurrent_function(Wg_f2 + Uh_f2), axis=0)\n",
        "      F_ = tf.concat((F_, f_i), axis=0)\n",
        "    o_t = self.recurrent_function(Wg_o2 + Uh_o2)\n",
        "\n",
        "    c_g = F_[self.seq_len : self.seq_len + 1, :] * c_tm1_g + tf.math.reduce_sum((F_[:self.seq_len, :] * c_tm1[:self.seq_len, :]), axis=0, keepdims=True)\n",
        "    g_t = o_t * self.activation_fn(c_g)\n",
        "\n",
        "    H = tf.concat((H, g_t,), axis=0)\n",
        "    c = tf.concat((c, c_g,), axis=0)\n",
        "      \n",
        "    return inputs, [H, c], g_t"
      ],
      "execution_count": 71,
      "outputs": []
    },
    {
      "cell_type": "code",
      "metadata": {
        "id": "rk8BgqnkwdWz",
        "colab_type": "code",
        "colab": {}
      },
      "source": [
        "units = 100\n",
        "\n",
        "slstm = SLSTMcell(units=units)\n",
        "H = tf.zeros(shape=(max_len+1, embedding_dim))\n",
        "c = tf.zeros(shape=(max_len+1, units))\n",
        "states = [tf.identity(H), tf.identity(c)]\n",
        "for t in range(9):\n",
        "  output, states, g_ = slstm(output, states)\n",
        "\n",
        "\n",
        "\n",
        "# units = 32\n",
        "# init_state = tf.zeros(shape=(1, (max_len+2)*2))\n",
        "# states = tf.identity(init_state)\n",
        "# for i in range(max_len):\n",
        "#     states = slstm(output, states)"
      ],
      "execution_count": 72,
      "outputs": []
    },
    {
      "cell_type": "code",
      "metadata": {
        "id": "TRXhTQmGtXJD",
        "colab_type": "code",
        "colab": {}
      },
      "source": [
        "class Softmax_classification(keras.layers.Layer):\n",
        "  def __init__(self, axis=-1, kernel_initializer='uniform', kernel_regularizer=None, kernel_constraint=None,\n",
        "               bias_initializer='zeros', bias_regularizer=None, bias_constraint=None, **kwargs):\n",
        "    super(Softmax, self).__init__(**kwargs)\n",
        "    self.axis = axis\n",
        "\n",
        "  def build(self, input_shape):\n",
        "    input_dim = input_shape[-1]\n",
        "    self.W = self.add_weight(shape=(input_dim, 2),\n",
        "                                  name='W',\n",
        "                                  initializer=self.kernel_initializer,\n",
        "                                  regularizer=self.kernel_regularizer,\n",
        "                                  constraint=self.kernel_constraint)\n",
        "    self.bias = self.add_weight(shape=(self.units * 10,),\n",
        "                                    name='bias',\n",
        "                                    initializer=self.bias_initializer,\n",
        "                                    regularizer=self.bias_regularizer,\n",
        "                                    constraint=self.bias_constraint)\n",
        "\n",
        "\n",
        "  def call(self, inputs):\n",
        "    inputs = inputs[2]\n",
        "    Wg = K.dot(inputs, W)\n",
        "    Wg = K.bias_add(Wg, self.bias)\n",
        "    return K.softmax(Wg, axis=self.axis)"
      ],
      "execution_count": 75,
      "outputs": []
    },
    {
      "cell_type": "code",
      "metadata": {
        "id": "gKMFLM7faVQn",
        "colab_type": "code",
        "colab": {}
      },
      "source": [
        ""
      ],
      "execution_count": null,
      "outputs": []
    }
  ]
}